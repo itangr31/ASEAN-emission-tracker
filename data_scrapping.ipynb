{
 "cells": [
  {
   "cell_type": "code",
   "execution_count": 1,
   "metadata": {},
   "outputs": [],
   "source": [
    "import requests\n",
    "import wget\n",
    "import zipfile\n",
    "import os\n",
    "import glob\n",
    "import pandas as pd"
   ]
  },
  {
   "cell_type": "code",
   "execution_count": 11,
   "metadata": {},
   "outputs": [],
   "source": [
    "#Data Scrapping\n",
    "asean = [\"BRN\",\"KHM\",\"IDN\",\"LAO\",\"MYS\",\"MMR\",\"PHL\",\"SGP\",\"THA\",\"VNM\"]\n",
    "\n",
    "path =os.getcwd()\n",
    "\n",
    "for ams in asean:\n",
    "\n",
    "    url = f\"https://downloads.climatetrace.org/v02/country_packages/{ams}.zip\"\n",
    "\n",
    "    latest_driver_zip = wget.download(url,\"chromedriver.zip\")\n",
    "\n",
    "    with zipfile.ZipFile(latest_driver_zip,'r') as zip_ref:\n",
    "        zip_ref.extractall(os.path.join(path,ams))\n",
    "    os.remove(latest_driver_zip)\n",
    "\n",
    "\n"
   ]
  },
  {
   "cell_type": "code",
   "execution_count": 33,
   "metadata": {},
   "outputs": [],
   "source": [
    "\n",
    "df_all_country_level = pd.DataFrame()\n",
    "\n",
    "for ams in asean:\n",
    "    paths = os.path.join(path,ams,\"DATA\")\n",
    "    sectors = [f for f in os.listdir(paths) if os.path.isdir(os.path.join(paths,f))]\n",
    "\n",
    "    for sector in sectors:\n",
    "        file_list = glob.glob(os.path.join(paths,sector) + \"/*emissions.csv\")\n",
    "\n",
    "        for file in file_list:\n",
    "            df = pd.read_csv(file)\n",
    "            df_all_country_level = pd.concat([df_all_country_level,df])\n",
    "            "
   ]
  },
  {
   "cell_type": "code",
   "execution_count": 34,
   "metadata": {},
   "outputs": [
    {
     "name": "stdout",
     "output_type": "stream",
     "text": [
      "<class 'pandas.core.frame.DataFrame'>\n",
      "Index: 21025 entries, 0 to 39\n",
      "Data columns (total 11 columns):\n",
      " #   Column                    Non-Null Count  Dtype  \n",
      "---  ------                    --------------  -----  \n",
      " 0   iso3_country              21025 non-null  object \n",
      " 1   sector                    21025 non-null  object \n",
      " 2   subsector                 21025 non-null  object \n",
      " 3   start_time                21025 non-null  object \n",
      " 4   end_time                  21025 non-null  object \n",
      " 5   gas                       21025 non-null  object \n",
      " 6   emissions_quantity        17465 non-null  float64\n",
      " 7   emissions_quantity_units  21025 non-null  object \n",
      " 8   temporal_granularity      15341 non-null  object \n",
      " 9   created_date              21025 non-null  object \n",
      " 10  modified_date             5413 non-null   object \n",
      "dtypes: float64(1), object(10)\n",
      "memory usage: 1.9+ MB\n"
     ]
    }
   ],
   "source": [
    "df_all_country_level.info()"
   ]
  },
  {
   "cell_type": "code",
   "execution_count": 41,
   "metadata": {},
   "outputs": [],
   "source": [
    "df_all_country_level[\"start_time\"] = pd.to_datetime(df_all_country_level[\"start_time\"])\n",
    "df_all_country_level[\"end_time\"] = pd.to_datetime(df_all_country_level[\"end_time\"])\n",
    "\n",
    "df_all_country_level[\"Year\"] = df_all_country_level[\"start_time\"].dt.year"
   ]
  },
  {
   "cell_type": "code",
   "execution_count": 42,
   "metadata": {},
   "outputs": [
    {
     "name": "stdout",
     "output_type": "stream",
     "text": [
      "<class 'pandas.core.frame.DataFrame'>\n",
      "Index: 21025 entries, 0 to 39\n",
      "Data columns (total 12 columns):\n",
      " #   Column                    Non-Null Count  Dtype         \n",
      "---  ------                    --------------  -----         \n",
      " 0   iso3_country              21025 non-null  object        \n",
      " 1   sector                    21025 non-null  object        \n",
      " 2   subsector                 21025 non-null  object        \n",
      " 3   start_time                21025 non-null  datetime64[ns]\n",
      " 4   end_time                  21025 non-null  datetime64[ns]\n",
      " 5   gas                       21025 non-null  object        \n",
      " 6   emissions_quantity        17465 non-null  float64       \n",
      " 7   emissions_quantity_units  21025 non-null  object        \n",
      " 8   temporal_granularity      15341 non-null  object        \n",
      " 9   created_date              21025 non-null  object        \n",
      " 10  modified_date             5413 non-null   object        \n",
      " 11  Year                      21025 non-null  int32         \n",
      "dtypes: datetime64[ns](2), float64(1), int32(1), object(8)\n",
      "memory usage: 2.0+ MB\n"
     ]
    }
   ],
   "source": [
    "df_all_country_level.info()"
   ]
  },
  {
   "cell_type": "code",
   "execution_count": 48,
   "metadata": {},
   "outputs": [],
   "source": [
    "df_all_country_level = df_all_country_level[df_all_country_level[\"Year\"] < 2023]"
   ]
  },
  {
   "cell_type": "code",
   "execution_count": 49,
   "metadata": {},
   "outputs": [],
   "source": [
    "df_all_country_level.to_csv(\"df_asean.csv\")"
   ]
  },
  {
   "cell_type": "code",
   "execution_count": 44,
   "metadata": {},
   "outputs": [
    {
     "data": {
      "text/plain": [
       "array(['agriculture', 'power', 'buildings', 'transportation',\n",
       "       'fossil-fuel-operations', 'mineral-extraction', 'manufacturing',\n",
       "       'forestry-and-land-use', 'fluorinated-gases', 'waste'],\n",
       "      dtype=object)"
      ]
     },
     "execution_count": 44,
     "metadata": {},
     "output_type": "execute_result"
    }
   ],
   "source": [
    "df_all_country_level[\"sector\"].unique()"
   ]
  },
  {
   "cell_type": "markdown",
   "metadata": {},
   "source": [
    "Edit Emission on folu to use only net values"
   ]
  },
  {
   "cell_type": "code",
   "execution_count": 5,
   "metadata": {},
   "outputs": [
    {
     "data": {
      "text/plain": [
       "array(['cropland-fires', 'other-agricultural-soil-emissions',\n",
       "       'manure-management-other', 'enteric-fermentation-other',\n",
       "       'enteric-fermentation-cattle-feedlot',\n",
       "       'manure-left-on-pasture-cattle',\n",
       "       'manure-management-cattle-feedlot',\n",
       "       'enteric-fermentation-cattle-pasture', 'rice-cultivation',\n",
       "       'electricity-generation', 'other-energy-use',\n",
       "       'residential-and-commercial-onsite-fuel-usage',\n",
       "       'other-onsite-fuel-usage', 'domestic-shipping',\n",
       "       'international-aviation', 'railways', 'international-shipping',\n",
       "       'other-transport', 'domestic-aviation', 'road-transportation',\n",
       "       'coal-mining', 'oil-and-gas-production-and-transport',\n",
       "       'other-fossil-fuel-operations', 'oil-and-gas-refining',\n",
       "       'solid-fuel-transformation', 'rock-quarrying', 'iron-mining',\n",
       "       'sand-quarrying', 'copper-mining', 'bauxite-mining', 'cement',\n",
       "       'petrochemicals', 'pulp-and-paper', 'other-manufacturing', 'steel',\n",
       "       'chemicals', 'aluminum', 'net-shrubgrass', 'net-wetland',\n",
       "       'net-forest-land', 'fluorinated-gases',\n",
       "       'biological-treatment-of-solid-waste-and-biogenic',\n",
       "       'solid-waste-disposal', 'wastewater-treatment-and-discharge',\n",
       "       'incineration-and-open-burning-of-waste',\n",
       "       'synthetic-fertilizer-application'], dtype=object)"
      ]
     },
     "execution_count": 5,
     "metadata": {},
     "output_type": "execute_result"
    }
   ],
   "source": [
    "df = pd.read_csv(\"df_asean.csv\")\n",
    "df = df[~df[\"subsector\"].isin(['forest-land-clearing', 'forest-land-degradation','forest-land-fires','removals', 'shrubgrass-fires', 'wetland-fires',\n",
    "       'water-reservoirs'])]\n",
    "\n",
    "df[\"subsector\"].unique()"
   ]
  },
  {
   "cell_type": "code",
   "execution_count": 6,
   "metadata": {},
   "outputs": [],
   "source": [
    "df.to_csv(\"df_asean.csv\")"
   ]
  },
  {
   "cell_type": "code",
   "execution_count": null,
   "metadata": {},
   "outputs": [],
   "source": []
  }
 ],
 "metadata": {
  "kernelspec": {
   "display_name": "Python 3",
   "language": "python",
   "name": "python3"
  },
  "language_info": {
   "codemirror_mode": {
    "name": "ipython",
    "version": 3
   },
   "file_extension": ".py",
   "mimetype": "text/x-python",
   "name": "python",
   "nbconvert_exporter": "python",
   "pygments_lexer": "ipython3",
   "version": "3.11.3"
  }
 },
 "nbformat": 4,
 "nbformat_minor": 2
}
