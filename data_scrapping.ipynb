{
 "cells": [
  {
   "cell_type": "code",
   "execution_count": 30,
   "metadata": {},
   "outputs": [],
   "source": [
    "import requests\n",
    "import wget\n",
    "import zipfile\n",
    "import os\n",
    "import glob\n",
    "import pandas as pd"
   ]
  },
  {
   "cell_type": "code",
   "execution_count": 11,
   "metadata": {},
   "outputs": [],
   "source": [
    "#Data Scrapping\n",
    "asean = [\"BRN\",\"KHM\",\"IDN\",\"LAO\",\"MYS\",\"MMR\",\"PHL\",\"SGP\",\"THA\",\"VNM\"]\n",
    "\n",
    "path =os.getcwd()\n",
    "\n",
    "for ams in asean:\n",
    "\n",
    "    url = f\"https://downloads.climatetrace.org/v02/country_packages/{ams}.zip\"\n",
    "\n",
    "    latest_driver_zip = wget.download(url,\"chromedriver.zip\")\n",
    "\n",
    "    with zipfile.ZipFile(latest_driver_zip,'r') as zip_ref:\n",
    "        zip_ref.extractall(os.path.join(path,ams))\n",
    "    os.remove(latest_driver_zip)\n",
    "\n",
    "\n"
   ]
  },
  {
   "cell_type": "code",
   "execution_count": 33,
   "metadata": {},
   "outputs": [],
   "source": [
    "\n",
    "df_all_country_level = pd.DataFrame()\n",
    "\n",
    "for ams in asean:\n",
    "    paths = os.path.join(path,ams,\"DATA\")\n",
    "    sectors = [f for f in os.listdir(paths) if os.path.isdir(os.path.join(paths,f))]\n",
    "\n",
    "    for sector in sectors:\n",
    "        file_list = glob.glob(os.path.join(paths,sector) + \"/*emissions.csv\")\n",
    "\n",
    "        for file in file_list:\n",
    "            df = pd.read_csv(file)\n",
    "            df_all_country_level = pd.concat([df_all_country_level,df])\n",
    "            "
   ]
  },
  {
   "cell_type": "code",
   "execution_count": 34,
   "metadata": {},
   "outputs": [
    {
     "name": "stdout",
     "output_type": "stream",
     "text": [
      "<class 'pandas.core.frame.DataFrame'>\n",
      "Index: 21025 entries, 0 to 39\n",
      "Data columns (total 11 columns):\n",
      " #   Column                    Non-Null Count  Dtype  \n",
      "---  ------                    --------------  -----  \n",
      " 0   iso3_country              21025 non-null  object \n",
      " 1   sector                    21025 non-null  object \n",
      " 2   subsector                 21025 non-null  object \n",
      " 3   start_time                21025 non-null  object \n",
      " 4   end_time                  21025 non-null  object \n",
      " 5   gas                       21025 non-null  object \n",
      " 6   emissions_quantity        17465 non-null  float64\n",
      " 7   emissions_quantity_units  21025 non-null  object \n",
      " 8   temporal_granularity      15341 non-null  object \n",
      " 9   created_date              21025 non-null  object \n",
      " 10  modified_date             5413 non-null   object \n",
      "dtypes: float64(1), object(10)\n",
      "memory usage: 1.9+ MB\n"
     ]
    }
   ],
   "source": [
    "df_all_country_level.info()"
   ]
  },
  {
   "cell_type": "code",
   "execution_count": 41,
   "metadata": {},
   "outputs": [],
   "source": [
    "df_all_country_level[\"start_time\"] = pd.to_datetime(df_all_country_level[\"start_time\"])\n",
    "df_all_country_level[\"end_time\"] = pd.to_datetime(df_all_country_level[\"end_time\"])\n",
    "\n",
    "df_all_country_level[\"Year\"] = df_all_country_level[\"start_time\"].dt.year"
   ]
  },
  {
   "cell_type": "code",
   "execution_count": 42,
   "metadata": {},
   "outputs": [
    {
     "name": "stdout",
     "output_type": "stream",
     "text": [
      "<class 'pandas.core.frame.DataFrame'>\n",
      "Index: 21025 entries, 0 to 39\n",
      "Data columns (total 12 columns):\n",
      " #   Column                    Non-Null Count  Dtype         \n",
      "---  ------                    --------------  -----         \n",
      " 0   iso3_country              21025 non-null  object        \n",
      " 1   sector                    21025 non-null  object        \n",
      " 2   subsector                 21025 non-null  object        \n",
      " 3   start_time                21025 non-null  datetime64[ns]\n",
      " 4   end_time                  21025 non-null  datetime64[ns]\n",
      " 5   gas                       21025 non-null  object        \n",
      " 6   emissions_quantity        17465 non-null  float64       \n",
      " 7   emissions_quantity_units  21025 non-null  object        \n",
      " 8   temporal_granularity      15341 non-null  object        \n",
      " 9   created_date              21025 non-null  object        \n",
      " 10  modified_date             5413 non-null   object        \n",
      " 11  Year                      21025 non-null  int32         \n",
      "dtypes: datetime64[ns](2), float64(1), int32(1), object(8)\n",
      "memory usage: 2.0+ MB\n"
     ]
    }
   ],
   "source": [
    "df_all_country_level.info()"
   ]
  },
  {
   "cell_type": "code",
   "execution_count": 48,
   "metadata": {},
   "outputs": [],
   "source": [
    "df_all_country_level = df_all_country_level[df_all_country_level[\"Year\"] < 2023]"
   ]
  },
  {
   "cell_type": "code",
   "execution_count": 49,
   "metadata": {},
   "outputs": [],
   "source": [
    "df_all_country_level.to_csv(\"df_asean.csv\")"
   ]
  },
  {
   "cell_type": "code",
   "execution_count": 44,
   "metadata": {},
   "outputs": [
    {
     "data": {
      "text/plain": [
       "array(['agriculture', 'power', 'buildings', 'transportation',\n",
       "       'fossil-fuel-operations', 'mineral-extraction', 'manufacturing',\n",
       "       'forestry-and-land-use', 'fluorinated-gases', 'waste'],\n",
       "      dtype=object)"
      ]
     },
     "execution_count": 44,
     "metadata": {},
     "output_type": "execute_result"
    }
   ],
   "source": [
    "df_all_country_level[\"sector\"].unique()"
   ]
  }
 ],
 "metadata": {
  "kernelspec": {
   "display_name": "Python 3",
   "language": "python",
   "name": "python3"
  },
  "language_info": {
   "codemirror_mode": {
    "name": "ipython",
    "version": 3
   },
   "file_extension": ".py",
   "mimetype": "text/x-python",
   "name": "python",
   "nbconvert_exporter": "python",
   "pygments_lexer": "ipython3",
   "version": "3.11.3"
  }
 },
 "nbformat": 4,
 "nbformat_minor": 2
}
