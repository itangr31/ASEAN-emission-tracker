{
 "cells": [
  {
   "cell_type": "code",
   "execution_count": 20,
   "metadata": {},
   "outputs": [],
   "source": [
    "import requests\n",
    "import wget\n",
    "import zipfile\n",
    "import os\n",
    "\n",
    "asean = [\"BRN\",\"KHM\",\"IDN\",\"LAO\",\"MYS\",\"MMR\",\"PHL\",\"SGP\",\"THA\",\"VNM\"]\n",
    "\n",
    "path =os.getcwd()\n",
    "\n",
    "for ams in asean:\n",
    "\n",
    "    url = f\"https://downloads.climatetrace.org/v02/country_packages/{ams}.zip\"\n",
    "\n",
    "    latest_driver_zip = wget.download(url,\"chromedriver.zip\")\n",
    "\n",
    "    with zipfile.ZipFile(latest_driver_zip,'r') as zip_ref:\n",
    "        zip_ref.extractall(os.path.join(path,f'/{ams}'))\n",
    "    os.remove(latest_driver_zip)\n",
    "\n",
    "\n"
   ]
  },
  {
   "cell_type": "code",
   "execution_count": null,
   "metadata": {},
   "outputs": [],
   "source": []
  }
 ],
 "metadata": {
  "kernelspec": {
   "display_name": "Python 3",
   "language": "python",
   "name": "python3"
  },
  "language_info": {
   "codemirror_mode": {
    "name": "ipython",
    "version": 3
   },
   "file_extension": ".py",
   "mimetype": "text/x-python",
   "name": "python",
   "nbconvert_exporter": "python",
   "pygments_lexer": "ipython3",
   "version": "3.11.3"
  }
 },
 "nbformat": 4,
 "nbformat_minor": 2
}
