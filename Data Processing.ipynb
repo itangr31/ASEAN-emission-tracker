{
 "cells": [
  {
   "cell_type": "code",
   "execution_count": 1,
   "metadata": {},
   "outputs": [],
   "source": [
    "import requests\n",
    "import zipfile\n",
    "import os\n",
    "import glob\n",
    "import pandas as pd"
   ]
  },
  {
   "cell_type": "code",
   "execution_count": 2,
   "metadata": {},
   "outputs": [
    {
     "data": {
      "text/plain": [
       "'/Users/ilhamrizaldi/Repos/github/ASEAN-emission-tracker'"
      ]
     },
     "execution_count": 2,
     "metadata": {},
     "output_type": "execute_result"
    }
   ],
   "source": [
    "os.getcwd()"
   ]
  },
  {
   "cell_type": "code",
   "execution_count": 5,
   "metadata": {},
   "outputs": [],
   "source": [
    "path = '/Users/ilhamrizaldi/Documents/Portofolio/ASEAN-emission-tracker'"
   ]
  },
  {
   "cell_type": "code",
   "execution_count": 6,
   "metadata": {},
   "outputs": [
    {
     "name": "stderr",
     "output_type": "stream",
     "text": [
      "/var/folders/g9/8dl_m7ms2gd5gm2zghqh2rl00000gn/T/ipykernel_4828/201956746.py:13: DtypeWarning: Columns (1) have mixed types. Specify dtype option on import or set low_memory=False.\n",
      "  df = pd.read_csv(file)\n",
      "/var/folders/g9/8dl_m7ms2gd5gm2zghqh2rl00000gn/T/ipykernel_4828/201956746.py:13: DtypeWarning: Columns (1) have mixed types. Specify dtype option on import or set low_memory=False.\n",
      "  df = pd.read_csv(file)\n",
      "/var/folders/g9/8dl_m7ms2gd5gm2zghqh2rl00000gn/T/ipykernel_4828/201956746.py:13: DtypeWarning: Columns (1) have mixed types. Specify dtype option on import or set low_memory=False.\n",
      "  df = pd.read_csv(file)\n",
      "/var/folders/g9/8dl_m7ms2gd5gm2zghqh2rl00000gn/T/ipykernel_4828/201956746.py:13: DtypeWarning: Columns (1) have mixed types. Specify dtype option on import or set low_memory=False.\n",
      "  df = pd.read_csv(file)\n",
      "/var/folders/g9/8dl_m7ms2gd5gm2zghqh2rl00000gn/T/ipykernel_4828/201956746.py:13: DtypeWarning: Columns (1) have mixed types. Specify dtype option on import or set low_memory=False.\n",
      "  df = pd.read_csv(file)\n"
     ]
    }
   ],
   "source": [
    "AMS_list =['BRN','KHM','IDN','LAO','MMR','MYS','PHL','SGP','THA','VNM']\n",
    "\n",
    "df_emission_sources_all = pd.DataFrame()\n",
    "\n",
    "for ams in AMS_list:\n",
    "    paths = os.path.join(path,ams,\"DATA\")\n",
    "    sectors = [f for f in os.listdir(paths) if os.path.isdir(os.path.join(paths,f))]\n",
    "\n",
    "    for sector in sectors:\n",
    "        file_list = glob.glob(os.path.join(paths,sector) + \"/*sources.csv\")\n",
    "\n",
    "        for file in file_list:\n",
    "            df = pd.read_csv(file)\n",
    "            df_emission_sources_all = pd.concat([df_emission_sources_all,df])\n",
    "\n"
   ]
  },
  {
   "cell_type": "code",
   "execution_count": 7,
   "metadata": {},
   "outputs": [
    {
     "data": {
      "text/html": [
       "<div>\n",
       "<style scoped>\n",
       "    .dataframe tbody tr th:only-of-type {\n",
       "        vertical-align: middle;\n",
       "    }\n",
       "\n",
       "    .dataframe tbody tr th {\n",
       "        vertical-align: top;\n",
       "    }\n",
       "\n",
       "    .dataframe thead th {\n",
       "        text-align: right;\n",
       "    }\n",
       "</style>\n",
       "<table border=\"1\" class=\"dataframe\">\n",
       "  <thead>\n",
       "    <tr style=\"text-align: right;\">\n",
       "      <th></th>\n",
       "      <th>source_id</th>\n",
       "      <th>source_name</th>\n",
       "      <th>source_type</th>\n",
       "      <th>iso3_country</th>\n",
       "      <th>sector</th>\n",
       "      <th>subsector</th>\n",
       "      <th>start_time</th>\n",
       "      <th>end_time</th>\n",
       "      <th>lat</th>\n",
       "      <th>lon</th>\n",
       "      <th>...</th>\n",
       "      <th>other7</th>\n",
       "      <th>other7_def</th>\n",
       "      <th>other8</th>\n",
       "      <th>other8_def</th>\n",
       "      <th>other9</th>\n",
       "      <th>other9_def</th>\n",
       "      <th>other10</th>\n",
       "      <th>other10_def</th>\n",
       "      <th>created_date</th>\n",
       "      <th>modified_date</th>\n",
       "    </tr>\n",
       "  </thead>\n",
       "  <tbody>\n",
       "    <tr>\n",
       "      <th>0</th>\n",
       "      <td>21459673</td>\n",
       "      <td>Amo</td>\n",
       "      <td>NaN</td>\n",
       "      <td>BRN</td>\n",
       "      <td>agriculture</td>\n",
       "      <td>rice-cultivation</td>\n",
       "      <td>2022-01-01 00:00:00</td>\n",
       "      <td>2022-12-31 00:00:00</td>\n",
       "      <td>4.483497</td>\n",
       "      <td>115.223388</td>\n",
       "      <td>...</td>\n",
       "      <td>NaN</td>\n",
       "      <td>NaN</td>\n",
       "      <td>NaN</td>\n",
       "      <td>NaN</td>\n",
       "      <td>NaN</td>\n",
       "      <td>NaN</td>\n",
       "      <td>NaN</td>\n",
       "      <td>NaN</td>\n",
       "      <td>2023-10-19 00:00:00</td>\n",
       "      <td>2023-11-15 21:08:09.181028</td>\n",
       "    </tr>\n",
       "    <tr>\n",
       "      <th>1</th>\n",
       "      <td>21459673</td>\n",
       "      <td>Amo</td>\n",
       "      <td>NaN</td>\n",
       "      <td>BRN</td>\n",
       "      <td>agriculture</td>\n",
       "      <td>rice-cultivation</td>\n",
       "      <td>2022-01-01 00:00:00</td>\n",
       "      <td>2022-12-31 00:00:00</td>\n",
       "      <td>4.483497</td>\n",
       "      <td>115.223388</td>\n",
       "      <td>...</td>\n",
       "      <td>NaN</td>\n",
       "      <td>NaN</td>\n",
       "      <td>NaN</td>\n",
       "      <td>NaN</td>\n",
       "      <td>NaN</td>\n",
       "      <td>NaN</td>\n",
       "      <td>NaN</td>\n",
       "      <td>NaN</td>\n",
       "      <td>2023-10-19 00:00:00</td>\n",
       "      <td>2023-11-15 21:08:09.181028</td>\n",
       "    </tr>\n",
       "    <tr>\n",
       "      <th>2</th>\n",
       "      <td>21459673</td>\n",
       "      <td>Amo</td>\n",
       "      <td>NaN</td>\n",
       "      <td>BRN</td>\n",
       "      <td>agriculture</td>\n",
       "      <td>rice-cultivation</td>\n",
       "      <td>2022-01-01 00:00:00</td>\n",
       "      <td>2022-12-31 00:00:00</td>\n",
       "      <td>4.483497</td>\n",
       "      <td>115.223388</td>\n",
       "      <td>...</td>\n",
       "      <td>NaN</td>\n",
       "      <td>NaN</td>\n",
       "      <td>NaN</td>\n",
       "      <td>NaN</td>\n",
       "      <td>NaN</td>\n",
       "      <td>NaN</td>\n",
       "      <td>NaN</td>\n",
       "      <td>NaN</td>\n",
       "      <td>2023-10-19 00:00:00</td>\n",
       "      <td>2023-11-15 21:08:09.181028</td>\n",
       "    </tr>\n",
       "    <tr>\n",
       "      <th>3</th>\n",
       "      <td>21459673</td>\n",
       "      <td>Amo</td>\n",
       "      <td>NaN</td>\n",
       "      <td>BRN</td>\n",
       "      <td>agriculture</td>\n",
       "      <td>rice-cultivation</td>\n",
       "      <td>2022-01-01 00:00:00</td>\n",
       "      <td>2022-12-31 00:00:00</td>\n",
       "      <td>4.483497</td>\n",
       "      <td>115.223388</td>\n",
       "      <td>...</td>\n",
       "      <td>NaN</td>\n",
       "      <td>NaN</td>\n",
       "      <td>NaN</td>\n",
       "      <td>NaN</td>\n",
       "      <td>NaN</td>\n",
       "      <td>NaN</td>\n",
       "      <td>NaN</td>\n",
       "      <td>NaN</td>\n",
       "      <td>2023-10-19 00:00:00</td>\n",
       "      <td>2023-11-15 21:08:09.181028</td>\n",
       "    </tr>\n",
       "    <tr>\n",
       "      <th>4</th>\n",
       "      <td>21459673</td>\n",
       "      <td>Amo</td>\n",
       "      <td>NaN</td>\n",
       "      <td>BRN</td>\n",
       "      <td>agriculture</td>\n",
       "      <td>rice-cultivation</td>\n",
       "      <td>2022-01-01 00:00:00</td>\n",
       "      <td>2022-12-31 00:00:00</td>\n",
       "      <td>4.483497</td>\n",
       "      <td>115.223388</td>\n",
       "      <td>...</td>\n",
       "      <td>NaN</td>\n",
       "      <td>NaN</td>\n",
       "      <td>NaN</td>\n",
       "      <td>NaN</td>\n",
       "      <td>NaN</td>\n",
       "      <td>NaN</td>\n",
       "      <td>NaN</td>\n",
       "      <td>NaN</td>\n",
       "      <td>2023-10-19 00:00:00</td>\n",
       "      <td>2023-11-15 21:08:09.181028</td>\n",
       "    </tr>\n",
       "  </tbody>\n",
       "</table>\n",
       "<p>5 rows × 43 columns</p>\n",
       "</div>"
      ],
      "text/plain": [
       "   source_id source_name source_type iso3_country       sector  \\\n",
       "0   21459673         Amo         NaN          BRN  agriculture   \n",
       "1   21459673         Amo         NaN          BRN  agriculture   \n",
       "2   21459673         Amo         NaN          BRN  agriculture   \n",
       "3   21459673         Amo         NaN          BRN  agriculture   \n",
       "4   21459673         Amo         NaN          BRN  agriculture   \n",
       "\n",
       "          subsector           start_time             end_time       lat  \\\n",
       "0  rice-cultivation  2022-01-01 00:00:00  2022-12-31 00:00:00  4.483497   \n",
       "1  rice-cultivation  2022-01-01 00:00:00  2022-12-31 00:00:00  4.483497   \n",
       "2  rice-cultivation  2022-01-01 00:00:00  2022-12-31 00:00:00  4.483497   \n",
       "3  rice-cultivation  2022-01-01 00:00:00  2022-12-31 00:00:00  4.483497   \n",
       "4  rice-cultivation  2022-01-01 00:00:00  2022-12-31 00:00:00  4.483497   \n",
       "\n",
       "          lon  ... other7 other7_def  other8 other8_def  other9 other9_def  \\\n",
       "0  115.223388  ...    NaN        NaN     NaN        NaN     NaN        NaN   \n",
       "1  115.223388  ...    NaN        NaN     NaN        NaN     NaN        NaN   \n",
       "2  115.223388  ...    NaN        NaN     NaN        NaN     NaN        NaN   \n",
       "3  115.223388  ...    NaN        NaN     NaN        NaN     NaN        NaN   \n",
       "4  115.223388  ...    NaN        NaN     NaN        NaN     NaN        NaN   \n",
       "\n",
       "   other10 other10_def         created_date               modified_date  \n",
       "0      NaN         NaN  2023-10-19 00:00:00  2023-11-15 21:08:09.181028  \n",
       "1      NaN         NaN  2023-10-19 00:00:00  2023-11-15 21:08:09.181028  \n",
       "2      NaN         NaN  2023-10-19 00:00:00  2023-11-15 21:08:09.181028  \n",
       "3      NaN         NaN  2023-10-19 00:00:00  2023-11-15 21:08:09.181028  \n",
       "4      NaN         NaN  2023-10-19 00:00:00  2023-11-15 21:08:09.181028  \n",
       "\n",
       "[5 rows x 43 columns]"
      ]
     },
     "execution_count": 7,
     "metadata": {},
     "output_type": "execute_result"
    }
   ],
   "source": [
    "df_emission_sources_all.head()"
   ]
  },
  {
   "cell_type": "code",
   "execution_count": 8,
   "metadata": {},
   "outputs": [
    {
     "name": "stdout",
     "output_type": "stream",
     "text": [
      "<class 'pandas.core.frame.DataFrame'>\n",
      "Index: 3665480 entries, 0 to 439\n",
      "Data columns (total 43 columns):\n",
      " #   Column                  Dtype  \n",
      "---  ------                  -----  \n",
      " 0   source_id               int64  \n",
      " 1   source_name             object \n",
      " 2   source_type             object \n",
      " 3   iso3_country            object \n",
      " 4   sector                  object \n",
      " 5   subsector               object \n",
      " 6   start_time              object \n",
      " 7   end_time                object \n",
      " 8   lat                     float64\n",
      " 9   lon                     float64\n",
      " 10  geometry_ref            object \n",
      " 11  gas                     object \n",
      " 12  emissions_quantity      float64\n",
      " 13  temporal_granularity    object \n",
      " 14  activity                float64\n",
      " 15  activity_units          object \n",
      " 16  emissions_factor        float64\n",
      " 17  emissions_factor_units  object \n",
      " 18  capacity                float64\n",
      " 19  capacity_units          object \n",
      " 20  capacity_factor         float64\n",
      " 21  other1                  object \n",
      " 22  other1_def              object \n",
      " 23  other2                  object \n",
      " 24  other2_def              object \n",
      " 25  other3                  object \n",
      " 26  other3_def              object \n",
      " 27  other4                  object \n",
      " 28  other4_def              object \n",
      " 29  other5                  object \n",
      " 30  other5_def              object \n",
      " 31  other6                  object \n",
      " 32  other6_def              object \n",
      " 33  other7                  float64\n",
      " 34  other7_def              object \n",
      " 35  other8                  float64\n",
      " 36  other8_def              object \n",
      " 37  other9                  float64\n",
      " 38  other9_def              object \n",
      " 39  other10                 float64\n",
      " 40  other10_def             object \n",
      " 41  created_date            object \n",
      " 42  modified_date           object \n",
      "dtypes: float64(11), int64(1), object(31)\n",
      "memory usage: 1.2+ GB\n"
     ]
    }
   ],
   "source": [
    "df_emission_sources_all.info()"
   ]
  },
  {
   "cell_type": "code",
   "execution_count": 9,
   "metadata": {},
   "outputs": [],
   "source": [
    "df = df_emission_sources_all.dropna(subset=[\"emissions_quantity\"])"
   ]
  },
  {
   "cell_type": "code",
   "execution_count": 10,
   "metadata": {},
   "outputs": [
    {
     "name": "stderr",
     "output_type": "stream",
     "text": [
      "/var/folders/g9/8dl_m7ms2gd5gm2zghqh2rl00000gn/T/ipykernel_4828/2072157830.py:1: SettingWithCopyWarning: \n",
      "A value is trying to be set on a copy of a slice from a DataFrame.\n",
      "Try using .loc[row_indexer,col_indexer] = value instead\n",
      "\n",
      "See the caveats in the documentation: https://pandas.pydata.org/pandas-docs/stable/user_guide/indexing.html#returning-a-view-versus-a-copy\n",
      "  df[\"end_time\"] = pd.to_datetime(df[\"end_time\"])\n"
     ]
    }
   ],
   "source": [
    "df[\"end_time\"] = pd.to_datetime(df[\"end_time\"])"
   ]
  },
  {
   "cell_type": "code",
   "execution_count": 11,
   "metadata": {},
   "outputs": [
    {
     "name": "stderr",
     "output_type": "stream",
     "text": [
      "/var/folders/g9/8dl_m7ms2gd5gm2zghqh2rl00000gn/T/ipykernel_4828/2892718314.py:1: SettingWithCopyWarning: \n",
      "A value is trying to be set on a copy of a slice from a DataFrame.\n",
      "Try using .loc[row_indexer,col_indexer] = value instead\n",
      "\n",
      "See the caveats in the documentation: https://pandas.pydata.org/pandas-docs/stable/user_guide/indexing.html#returning-a-view-versus-a-copy\n",
      "  df[\"Year\"] = df[\"end_time\"].dt.year\n"
     ]
    }
   ],
   "source": [
    "df[\"Year\"] = df[\"end_time\"].dt.year\n"
   ]
  },
  {
   "cell_type": "code",
   "execution_count": 12,
   "metadata": {},
   "outputs": [],
   "source": [
    "df= df[[\"iso3_country\",\"sector\",\"subsector\",\"lat\",\"lon\",\"emissions_quantity\",\"gas\",\"Year\"]]"
   ]
  },
  {
   "cell_type": "code",
   "execution_count": 13,
   "metadata": {},
   "outputs": [],
   "source": [
    "df = df[(df[\"emissions_quantity\"]>0) & df[\"gas\"].isin([\"ch4\",\"co2\",\"n20\"])]"
   ]
  },
  {
   "cell_type": "code",
   "execution_count": 14,
   "metadata": {},
   "outputs": [
    {
     "data": {
      "text/html": [
       "<div>\n",
       "<style scoped>\n",
       "    .dataframe tbody tr th:only-of-type {\n",
       "        vertical-align: middle;\n",
       "    }\n",
       "\n",
       "    .dataframe tbody tr th {\n",
       "        vertical-align: top;\n",
       "    }\n",
       "\n",
       "    .dataframe thead th {\n",
       "        text-align: right;\n",
       "    }\n",
       "</style>\n",
       "<table border=\"1\" class=\"dataframe\">\n",
       "  <thead>\n",
       "    <tr style=\"text-align: right;\">\n",
       "      <th></th>\n",
       "      <th>iso3_country</th>\n",
       "      <th>sector</th>\n",
       "      <th>subsector</th>\n",
       "      <th>lat</th>\n",
       "      <th>lon</th>\n",
       "      <th>emissions_quantity</th>\n",
       "      <th>gas</th>\n",
       "      <th>Year</th>\n",
       "    </tr>\n",
       "  </thead>\n",
       "  <tbody>\n",
       "    <tr>\n",
       "      <th>20</th>\n",
       "      <td>BRN</td>\n",
       "      <td>agriculture</td>\n",
       "      <td>rice-cultivation</td>\n",
       "      <td>4.528158</td>\n",
       "      <td>114.756085</td>\n",
       "      <td>1.315231e+00</td>\n",
       "      <td>ch4</td>\n",
       "      <td>2022</td>\n",
       "    </tr>\n",
       "    <tr>\n",
       "      <th>25</th>\n",
       "      <td>BRN</td>\n",
       "      <td>agriculture</td>\n",
       "      <td>rice-cultivation</td>\n",
       "      <td>4.905950</td>\n",
       "      <td>114.914521</td>\n",
       "      <td>1.023065e+00</td>\n",
       "      <td>ch4</td>\n",
       "      <td>2022</td>\n",
       "    </tr>\n",
       "    <tr>\n",
       "      <th>35</th>\n",
       "      <td>BRN</td>\n",
       "      <td>agriculture</td>\n",
       "      <td>rice-cultivation</td>\n",
       "      <td>4.844315</td>\n",
       "      <td>114.754207</td>\n",
       "      <td>6.600000e-15</td>\n",
       "      <td>ch4</td>\n",
       "      <td>2022</td>\n",
       "    </tr>\n",
       "    <tr>\n",
       "      <th>45</th>\n",
       "      <td>BRN</td>\n",
       "      <td>agriculture</td>\n",
       "      <td>rice-cultivation</td>\n",
       "      <td>4.751573</td>\n",
       "      <td>114.750949</td>\n",
       "      <td>2.550666e-01</td>\n",
       "      <td>ch4</td>\n",
       "      <td>2022</td>\n",
       "    </tr>\n",
       "    <tr>\n",
       "      <th>60</th>\n",
       "      <td>BRN</td>\n",
       "      <td>agriculture</td>\n",
       "      <td>rice-cultivation</td>\n",
       "      <td>4.798107</td>\n",
       "      <td>115.164642</td>\n",
       "      <td>3.616238e-02</td>\n",
       "      <td>ch4</td>\n",
       "      <td>2022</td>\n",
       "    </tr>\n",
       "  </tbody>\n",
       "</table>\n",
       "</div>"
      ],
      "text/plain": [
       "   iso3_country       sector         subsector       lat         lon  \\\n",
       "20          BRN  agriculture  rice-cultivation  4.528158  114.756085   \n",
       "25          BRN  agriculture  rice-cultivation  4.905950  114.914521   \n",
       "35          BRN  agriculture  rice-cultivation  4.844315  114.754207   \n",
       "45          BRN  agriculture  rice-cultivation  4.751573  114.750949   \n",
       "60          BRN  agriculture  rice-cultivation  4.798107  115.164642   \n",
       "\n",
       "    emissions_quantity  gas  Year  \n",
       "20        1.315231e+00  ch4  2022  \n",
       "25        1.023065e+00  ch4  2022  \n",
       "35        6.600000e-15  ch4  2022  \n",
       "45        2.550666e-01  ch4  2022  \n",
       "60        3.616238e-02  ch4  2022  "
      ]
     },
     "execution_count": 14,
     "metadata": {},
     "output_type": "execute_result"
    }
   ],
   "source": [
    "df.head()"
   ]
  },
  {
   "cell_type": "code",
   "execution_count": 15,
   "metadata": {},
   "outputs": [],
   "source": [
    "df.to_csv(\"df_asean_emission_sources.csv\")"
   ]
  },
  {
   "cell_type": "code",
   "execution_count": 16,
   "metadata": {},
   "outputs": [
    {
     "data": {
      "text/html": [
       "<div>\n",
       "<style scoped>\n",
       "    .dataframe tbody tr th:only-of-type {\n",
       "        vertical-align: middle;\n",
       "    }\n",
       "\n",
       "    .dataframe tbody tr th {\n",
       "        vertical-align: top;\n",
       "    }\n",
       "\n",
       "    .dataframe thead th {\n",
       "        text-align: right;\n",
       "    }\n",
       "</style>\n",
       "<table border=\"1\" class=\"dataframe\">\n",
       "  <thead>\n",
       "    <tr style=\"text-align: right;\">\n",
       "      <th></th>\n",
       "      <th>source_id</th>\n",
       "      <th>source_name</th>\n",
       "      <th>source_type</th>\n",
       "      <th>iso3_country</th>\n",
       "      <th>sector</th>\n",
       "      <th>subsector</th>\n",
       "      <th>start_time</th>\n",
       "      <th>end_time</th>\n",
       "      <th>lat</th>\n",
       "      <th>lon</th>\n",
       "      <th>...</th>\n",
       "      <th>other7</th>\n",
       "      <th>other7_def</th>\n",
       "      <th>other8</th>\n",
       "      <th>other8_def</th>\n",
       "      <th>other9</th>\n",
       "      <th>other9_def</th>\n",
       "      <th>other10</th>\n",
       "      <th>other10_def</th>\n",
       "      <th>created_date</th>\n",
       "      <th>modified_date</th>\n",
       "    </tr>\n",
       "  </thead>\n",
       "  <tbody>\n",
       "  </tbody>\n",
       "</table>\n",
       "<p>0 rows × 43 columns</p>\n",
       "</div>"
      ],
      "text/plain": [
       "Empty DataFrame\n",
       "Columns: [source_id, source_name, source_type, iso3_country, sector, subsector, start_time, end_time, lat, lon, geometry_ref, gas, emissions_quantity, temporal_granularity, activity, activity_units, emissions_factor, emissions_factor_units, capacity, capacity_units, capacity_factor, other1, other1_def, other2, other2_def, other3, other3_def, other4, other4_def, other5, other5_def, other6, other6_def, other7, other7_def, other8, other8_def, other9, other9_def, other10, other10_def, created_date, modified_date]\n",
       "Index: []\n",
       "\n",
       "[0 rows x 43 columns]"
      ]
     },
     "execution_count": 16,
     "metadata": {},
     "output_type": "execute_result"
    }
   ],
   "source": [
    "df_emission_sources_all[df_emission_sources_all.duplicated()]"
   ]
  },
  {
   "cell_type": "code",
   "execution_count": 17,
   "metadata": {},
   "outputs": [
    {
     "data": {
      "text/plain": [
       "array([2022, 2015, 2016, 2017, 2018, 2019, 2020, 2021, 2023, 2014],\n",
       "      dtype=int32)"
      ]
     },
     "execution_count": 17,
     "metadata": {},
     "output_type": "execute_result"
    }
   ],
   "source": [
    "df.Year.unique()"
   ]
  },
  {
   "cell_type": "code",
   "execution_count": 18,
   "metadata": {},
   "outputs": [
    {
     "name": "stdout",
     "output_type": "stream",
     "text": [
      "<class 'pandas.core.frame.DataFrame'>\n",
      "Index: 600121 entries, 20 to 435\n",
      "Data columns (total 8 columns):\n",
      " #   Column              Non-Null Count   Dtype  \n",
      "---  ------              --------------   -----  \n",
      " 0   iso3_country        600121 non-null  object \n",
      " 1   sector              600121 non-null  object \n",
      " 2   subsector           600121 non-null  object \n",
      " 3   lat                 599739 non-null  float64\n",
      " 4   lon                 599739 non-null  float64\n",
      " 5   emissions_quantity  600121 non-null  float64\n",
      " 6   gas                 600121 non-null  object \n",
      " 7   Year                600121 non-null  int32  \n",
      "dtypes: float64(3), int32(1), object(4)\n",
      "memory usage: 38.9+ MB\n"
     ]
    }
   ],
   "source": [
    "df.info()"
   ]
  },
  {
   "cell_type": "code",
   "execution_count": null,
   "metadata": {},
   "outputs": [],
   "source": []
  }
 ],
 "metadata": {
  "kernelspec": {
   "display_name": "dashboard_emission",
   "language": "python",
   "name": "python3"
  },
  "language_info": {
   "codemirror_mode": {
    "name": "ipython",
    "version": 3
   },
   "file_extension": ".py",
   "mimetype": "text/x-python",
   "name": "python",
   "nbconvert_exporter": "python",
   "pygments_lexer": "ipython3",
   "version": "3.12.7"
  }
 },
 "nbformat": 4,
 "nbformat_minor": 2
}
